{
 "cells": [
  {
   "cell_type": "code",
   "execution_count": 1,
   "metadata": {
    "collapsed": true
   },
   "outputs": [],
   "source": [
    "#Data \n",
    "revenue = [14574.49, 7606.46, 8611.41, 9175.41, 8058.65, 8105.44, 11496.28, 9766.09, 10305.32, 14379.96, 10713.97, 15433.50]\n",
    "expenses = [12051.82, 5695.07, 12319.20, 12089.72, 8658.57, 840.20, 3285.73, 5821.12, 6976.93, 16618.61, 10054.37, 3803.96]"
   ]
  },
  {
   "cell_type": "code",
   "execution_count": 5,
   "metadata": {},
   "outputs": [
    {
     "name": "stdout",
     "output_type": "stream",
     "text": [
      "[2522.67, 1911.3900000000003, -3707.790000000001, -2914.3099999999995, -599.9200000000001, 7265.24, 8210.550000000001, 3944.9700000000003, 3328.3899999999994, -2238.6500000000015, 659.5999999999985, 11629.54]\n"
     ]
    }
   ],
   "source": [
    "# calculating profit (revenue - expenses)\n",
    "profit = list([])\n",
    "\n",
    "for i in range(0, len(revenue)):\n",
    "    profit.append(revenue[i] - expenses[i])\n",
    "\n",
    "print(profit)"
   ]
  },
  {
   "cell_type": "code",
   "execution_count": 8,
   "metadata": {},
   "outputs": [
    {
     "name": "stdout",
     "output_type": "stream",
     "text": [
      "[756.8, 573.42, -1112.34, -874.29, -179.98, 2179.57, 2463.17, 1183.49, 998.52, -671.6, 197.88, 3488.86]\n"
     ]
    }
   ],
   "source": [
    "# calculating the tax (profit * tax of 30%)\n",
    "tax = [round(i * 0.3, 2) for i in profit]\n",
    "print(tax)"
   ]
  },
  {
   "cell_type": "code",
   "execution_count": 9,
   "metadata": {},
   "outputs": [
    {
     "name": "stdout",
     "output_type": "stream",
     "text": [
      "[1765.8700000000001, 1337.9700000000003, -2595.4500000000007, -2040.0199999999995, -419.94000000000005, 5085.67, 5747.380000000001, 2761.4800000000005, 2329.8699999999994, -1567.0500000000015, 461.71999999999855, 8140.68]\n"
     ]
    }
   ],
   "source": [
    "# profit after tax\n",
    "profit_after_tax = list([])\n",
    "\n",
    "for i in range(0, len(profit)):\n",
    "    profit_after_tax.append(profit[i] - tax[i])\n",
    "\n",
    "print(profit_after_tax)"
   ]
  },
  {
   "cell_type": "code",
   "execution_count": 11,
   "metadata": {},
   "outputs": [
    {
     "name": "stdout",
     "output_type": "stream",
     "text": [
      "[12.12, 17.59, -30.14, -22.23, -5.21, 62.74, 49.99, 28.28, 22.61, -10.9, 4.31, 52.75]\n"
     ]
    }
   ],
   "source": [
    "# profit margin after tax\n",
    "profit_margin = list([])\n",
    "\n",
    "for i in range(0, len(profit)):\n",
    "    profit_margin.append(profit_after_tax[i] / revenue[i])\n",
    "\n",
    "profit_margin = [round((i * 100), 2) for i in profit_margin]\n",
    "print(profit_margin)"
   ]
  },
  {
   "cell_type": "code",
   "execution_count": 12,
   "metadata": {},
   "outputs": [
    {
     "name": "stdout",
     "output_type": "stream",
     "text": [
      "1750.6816666666666\n"
     ]
    }
   ],
   "source": [
    "# mean profit after tax\n",
    "mean_pat = sum(profit_after_tax) / len(profit_after_tax)\n",
    "print(mean_pat)"
   ]
  },
  {
   "cell_type": "code",
   "execution_count": 14,
   "metadata": {},
   "outputs": [
    {
     "data": {
      "text/plain": [
       "[True, False, False, False, False, True, True, True, True, False, False, True]"
      ]
     },
     "execution_count": 14,
     "metadata": {},
     "output_type": "execute_result"
    }
   ],
   "source": [
    "good_months = list([])\n",
    "\n",
    "for i in range(0, len(profit)):\n",
    "    good_months.append(profit_after_tax[i] > mean_pat)\n",
    "\n",
    "good_months"
   ]
  },
  {
   "cell_type": "code",
   "execution_count": 15,
   "metadata": {},
   "outputs": [
    {
     "data": {
      "text/plain": [
       "[False, True, True, True, True, False, False, False, False, True, True, False]"
      ]
     },
     "execution_count": 15,
     "metadata": {},
     "output_type": "execute_result"
    }
   ],
   "source": [
    "bad_months = list([])\n",
    "\n",
    "for i in range(0, len(profit)):\n",
    "    bad_months.append(profit_after_tax[i] < mean_pat)\n",
    "\n",
    "bad_months"
   ]
  },
  {
   "cell_type": "code",
   "execution_count": 17,
   "metadata": {},
   "outputs": [
    {
     "name": "stdout",
     "output_type": "stream",
     "text": [
      "[False, False, False, False, False, False, False, False, False, False, False, True]\n"
     ]
    }
   ],
   "source": [
    "best_month = list([])\n",
    "\n",
    "for i in range(0, len(profit)):\n",
    "    best_month.append(profit_after_tax[i] == max(profit_after_tax))\n",
    "\n",
    "print(best_month)"
   ]
  },
  {
   "cell_type": "code",
   "execution_count": 18,
   "metadata": {},
   "outputs": [
    {
     "name": "stdout",
     "output_type": "stream",
     "text": [
      "[False, False, True, False, False, False, False, False, False, False, False, False]\n"
     ]
    }
   ],
   "source": [
    "worst_month = list([])\n",
    "\n",
    "for i in range(0, len(profit)):\n",
    "    worst_month.append(profit_after_tax[i] == min(profit_after_tax))\n",
    "\n",
    "print(worst_month)"
   ]
  },
  {
   "cell_type": "code",
   "execution_count": null,
   "metadata": {
    "collapsed": true
   },
   "outputs": [],
   "source": []
  }
 ],
 "metadata": {
  "kernelspec": {
   "display_name": "Python 3",
   "language": "python",
   "name": "python3"
  },
  "language_info": {
   "codemirror_mode": {
    "name": "ipython",
    "version": 3
   },
   "file_extension": ".py",
   "mimetype": "text/x-python",
   "name": "python",
   "nbconvert_exporter": "python",
   "pygments_lexer": "ipython3",
   "version": "3.6.3"
  }
 },
 "nbformat": 4,
 "nbformat_minor": 1
}
