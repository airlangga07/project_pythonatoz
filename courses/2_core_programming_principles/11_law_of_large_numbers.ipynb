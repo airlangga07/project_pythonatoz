{
 "cells": [
  {
   "cell_type": "code",
   "execution_count": 1,
   "metadata": {
    "collapsed": true
   },
   "outputs": [],
   "source": [
    "import numpy as np\n",
    "from numpy.random import randn"
   ]
  },
  {
   "cell_type": "code",
   "execution_count": 27,
   "metadata": {},
   "outputs": [
    {
     "name": "stdout",
     "output_type": "stream",
     "text": [
      "68.2982\n",
      "31.701800000000002\n"
     ]
    }
   ],
   "source": [
    "samples = 1000000\n",
    "expected_value = 0\n",
    "unexpected_value = 0\n",
    "for num in randn(samples):\n",
    "    if num >= -1 and num <= 1:\n",
    "        expected_value = expected_value + 1\n",
    "    else:\n",
    "        unexpected_value = unexpected_value + 1\n",
    "\n",
    "print(expected_value / samples * 100)\n",
    "print(unexpected_value / samples * 100)"
   ]
  }
 ],
 "metadata": {
  "kernelspec": {
   "display_name": "Python 3",
   "language": "python",
   "name": "python3"
  },
  "language_info": {
   "codemirror_mode": {
    "name": "ipython",
    "version": 3
   },
   "file_extension": ".py",
   "mimetype": "text/x-python",
   "name": "python",
   "nbconvert_exporter": "python",
   "pygments_lexer": "ipython3",
   "version": "3.6.3"
  }
 },
 "nbformat": 4,
 "nbformat_minor": 2
}
